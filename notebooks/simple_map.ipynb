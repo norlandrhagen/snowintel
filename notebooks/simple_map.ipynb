{
 "cells": [
  {
   "cell_type": "code",
   "execution_count": 1,
   "id": "503c8c08",
   "metadata": {},
   "outputs": [
    {
     "ename": "ModuleNotFoundError",
     "evalue": "No module named 'snowintel'",
     "output_type": "error",
     "traceback": [
      "\u001b[0;31m---------------------------------------------------------------------------\u001b[0m",
      "\u001b[0;31mModuleNotFoundError\u001b[0m                       Traceback (most recent call last)",
      "Cell \u001b[0;32mIn[1], line 1\u001b[0m\n\u001b[0;32m----> 1\u001b[0m \u001b[39mfrom\u001b[39;00m \u001b[39msnowintel\u001b[39;00m\u001b[39m.\u001b[39;00m\u001b[39mcore\u001b[39;00m \u001b[39mimport\u001b[39;00m GetSites\n\u001b[1;32m      2\u001b[0m \u001b[39mimport\u001b[39;00m \u001b[39mfolium\u001b[39;00m\n",
      "\u001b[0;31mModuleNotFoundError\u001b[0m: No module named 'snowintel'"
     ]
    }
   ],
   "source": [
    "from snowintel.core import GetSites\n",
    "import folium"
   ]
  },
  {
   "cell_type": "code",
   "execution_count": null,
   "id": "3dd83830",
   "metadata": {},
   "outputs": [],
   "source": [
    "gs = GetSites(state_filter=\"UT\")"
   ]
  },
  {
   "cell_type": "code",
   "execution_count": null,
   "id": "eefb196a",
   "metadata": {},
   "outputs": [],
   "source": [
    "gdf = gs.geodataframe()"
   ]
  },
  {
   "cell_type": "code",
   "execution_count": null,
   "id": "4009a8b1",
   "metadata": {},
   "outputs": [],
   "source": [
    "m = gs.create_map()"
   ]
  },
  {
   "cell_type": "code",
   "execution_count": null,
   "id": "5bfea56f",
   "metadata": {},
   "outputs": [],
   "source": [
    "m"
   ]
  }
 ],
 "metadata": {
  "kernelspec": {
   "display_name": "snowintel",
   "language": "python",
   "name": "python3"
  },
  "language_info": {
   "codemirror_mode": {
    "name": "ipython",
    "version": 3
   },
   "file_extension": ".py",
   "mimetype": "text/x-python",
   "name": "python",
   "nbconvert_exporter": "python",
   "pygments_lexer": "ipython3",
   "version": "3.11.0"
  },
  "vscode": {
   "interpreter": {
    "hash": "b6a174f0bce858bb49386db9f4b3ddef3c2e349c24208729b432195dc8806e2c"
   }
  }
 },
 "nbformat": 4,
 "nbformat_minor": 5
}
