{
 "cells": [
  {
   "cell_type": "code",
   "execution_count": 6,
   "metadata": {},
   "outputs": [
    {
     "name": "stdout",
     "output_type": "stream",
     "text": [
      "# packages in environment at /Users/nrhagen/opt/anaconda3/envs/install/envs/snowintel:\n",
      "#\n",
      "# Name                    Version                   Build  Channel\n",
      "anyio                     3.6.2              pyhd8ed1ab_0    conda-forge\n",
      "appdirs                   1.4.4              pyh9f0ad1d_0    conda-forge\n",
      "appnope                   0.1.3              pyhd8ed1ab_0    conda-forge\n",
      "argon2-cffi               21.3.0             pyhd8ed1ab_0    conda-forge\n",
      "argon2-cffi-bindings      21.2.0           py39ha30fb19_3    conda-forge\n",
      "asttokens                 2.2.1              pyhd8ed1ab_0    conda-forge\n",
      "attrs                     22.2.0             pyh71513ae_0    conda-forge\n",
      "backcall                  0.2.0              pyh9f0ad1d_0    conda-forge\n",
      "backports                 1.0                pyhd8ed1ab_3    conda-forge\n",
      "backports.functools_lru_cache 1.6.4              pyhd8ed1ab_0    conda-forge\n",
      "beautifulsoup4            4.11.2             pyha770c72_0    conda-forge\n",
      "bleach                    6.0.0              pyhd8ed1ab_0    conda-forge\n",
      "brotlipy                  0.7.0           py39ha30fb19_1005    conda-forge\n",
      "bzip2                     1.0.8                h0d85af4_4    conda-forge\n",
      "ca-certificates           2022.12.7            h033912b_0    conda-forge\n",
      "cached-property           1.5.2                hd8ed1ab_1    conda-forge\n",
      "cached_property           1.5.2              pyha770c72_1    conda-forge\n",
      "certifi                   2022.12.7          pyhd8ed1ab_0    conda-forge\n",
      "cffi                      1.15.1           py39h131948b_3    conda-forge\n",
      "cfgv                      3.3.1              pyhd8ed1ab_0    conda-forge\n",
      "charset-normalizer        2.1.1              pyhd8ed1ab_0    conda-forge\n",
      "colorama                  0.4.6              pyhd8ed1ab_0    conda-forge\n",
      "comm                      0.1.2              pyhd8ed1ab_0    conda-forge\n",
      "cramjam                   2.6.2            py39hd4bc93a_0    conda-forge\n",
      "cryptography              39.0.1           py39hbeae22c_0    conda-forge\n",
      "debugpy                   1.6.6            py39h7a8716b_0    conda-forge\n",
      "decorator                 5.1.1              pyhd8ed1ab_0    conda-forge\n",
      "defusedxml                0.7.1              pyhd8ed1ab_0    conda-forge\n",
      "distlib                   0.3.6              pyhd8ed1ab_0    conda-forge\n",
      "entrypoints               0.4                pyhd8ed1ab_0    conda-forge\n",
      "exceptiongroup            1.1.0              pyhd8ed1ab_0    conda-forge\n",
      "executing                 1.2.0              pyhd8ed1ab_0    conda-forge\n",
      "fastapi                   0.90.0             pyhd8ed1ab_0    conda-forge\n",
      "fastparquet               2023.2.0         py39h7cc1f47_0    conda-forge\n",
      "filelock                  3.9.0              pyhd8ed1ab_0    conda-forge\n",
      "flit-core                 3.8.0              pyhd8ed1ab_0    conda-forge\n",
      "fsspec                    2023.1.0           pyhd8ed1ab_0    conda-forge\n",
      "future                    0.18.3             pyhd8ed1ab_0    conda-forge\n",
      "geojson                   2.5.0                      py_0    conda-forge\n",
      "gettext                   0.21.1               h8a4c099_0    conda-forge\n",
      "glib                      2.74.1               hbc0c0cd_1    conda-forge\n",
      "glib-tools                2.74.1               hbc0c0cd_1    conda-forge\n",
      "gst-plugins-base          1.22.0               h37e1711_0    conda-forge\n",
      "gstreamer                 1.22.0               h1d18e73_0    conda-forge\n",
      "icu                       70.1                 h96cf925_0    conda-forge\n",
      "identify                  2.5.17             pyhd8ed1ab_0    conda-forge\n",
      "idna                      3.4                pyhd8ed1ab_0    conda-forge\n",
      "importlib-metadata        6.0.0              pyha770c72_0    conda-forge\n",
      "importlib_metadata        6.0.0                hd8ed1ab_0    conda-forge\n",
      "importlib_resources       5.10.2             pyhd8ed1ab_0    conda-forge\n",
      "iniconfig                 2.0.0              pyhd8ed1ab_0    conda-forge\n",
      "ipykernel                 6.21.1             pyh736e0ef_0    conda-forge\n",
      "ipython                   8.9.0              pyhd1c38e8_0    conda-forge\n",
      "ipython_genutils          0.2.0                      py_1    conda-forge\n",
      "ipywidgets                8.0.4              pyhd8ed1ab_0    conda-forge\n",
      "isodate                   0.6.1              pyhd8ed1ab_0    conda-forge\n",
      "jedi                      0.18.2             pyhd8ed1ab_0    conda-forge\n",
      "jinja2                    3.1.2              pyhd8ed1ab_1    conda-forge\n",
      "jpeg                      9e                   hac89ed1_2    conda-forge\n",
      "jsonschema                4.17.3             pyhd8ed1ab_0    conda-forge\n",
      "jupyter                   1.0.0            py39h6e9494a_8    conda-forge\n",
      "jupyter_client            8.0.2              pyhd8ed1ab_0    conda-forge\n",
      "jupyter_console           6.4.4              pyhd8ed1ab_0    conda-forge\n",
      "jupyter_core              5.2.0            py39h6e9494a_0    conda-forge\n",
      "jupyter_events            0.6.3              pyhd8ed1ab_0    conda-forge\n",
      "jupyter_server            2.2.1              pyhd8ed1ab_0    conda-forge\n",
      "jupyter_server_terminals  0.4.4              pyhd8ed1ab_1    conda-forge\n",
      "jupyterlab_pygments       0.2.2              pyhd8ed1ab_0    conda-forge\n",
      "jupyterlab_widgets        3.0.5              pyhd8ed1ab_0    conda-forge\n",
      "krb5                      1.20.1               h049b76e_0    conda-forge\n",
      "libblas                   3.9.0           16_osx64_openblas    conda-forge\n",
      "libcblas                  3.9.0           16_osx64_openblas    conda-forge\n",
      "libclang                  13.0.1          default_he082bbe_0    conda-forge\n",
      "libcxx                    14.0.6               hccf4f1f_0    conda-forge\n",
      "libedit                   3.1.20191231         h0678c8f_2    conda-forge\n",
      "libffi                    3.4.2                h0d85af4_5    conda-forge\n",
      "libgfortran               5.0.0           11_3_0_h97931a8_27    conda-forge\n",
      "libgfortran5              11.3.0              h082f757_27    conda-forge\n",
      "libglib                   2.74.1               h4c723e1_1    conda-forge\n",
      "libiconv                  1.17                 hac89ed1_0    conda-forge\n",
      "liblapack                 3.9.0           16_osx64_openblas    conda-forge\n",
      "libllvm13                 13.0.1               h64f94b2_2    conda-forge\n",
      "libogg                    1.3.4                h35c211d_1    conda-forge\n",
      "libopenblas               0.3.21          openmp_h429af6e_3    conda-forge\n",
      "libopus                   1.3.1                hc929b4f_1    conda-forge\n",
      "libpng                    1.6.39               ha978bb4_0    conda-forge\n",
      "libpq                     15.1                 h3640bf0_3    conda-forge\n",
      "libsodium                 1.0.18               hbcb3906_1    conda-forge\n",
      "libsqlite                 3.40.0               ha978bb4_0    conda-forge\n",
      "libvorbis                 1.3.7                h046ec9c_0    conda-forge\n",
      "libxml2                   2.10.3               hb9e07b5_0    conda-forge\n",
      "libxslt                   1.1.37               h5d22bc9_0    conda-forge\n",
      "libzlib                   1.2.13               hfd90126_4    conda-forge\n",
      "llvm-openmp               15.0.7               h61d9ccf_0    conda-forge\n",
      "lxml                      4.9.2            py39hfbce9ca_0    conda-forge\n",
      "markupsafe                2.1.2            py39ha30fb19_0    conda-forge\n",
      "matplotlib-inline         0.1.6              pyhd8ed1ab_0    conda-forge\n",
      "mistune                   2.0.5              pyhd8ed1ab_0    conda-forge\n",
      "mysql-common              8.0.31               hc4b2c72_0    conda-forge\n",
      "mysql-libs                8.0.31               h8658499_0    conda-forge\n",
      "nbclassic                 0.5.1              pyhd8ed1ab_0    conda-forge\n",
      "nbclient                  0.7.2              pyhd8ed1ab_0    conda-forge\n",
      "nbconvert                 7.2.9              pyhd8ed1ab_0    conda-forge\n",
      "nbconvert-core            7.2.9              pyhd8ed1ab_0    conda-forge\n",
      "nbconvert-pandoc          7.2.9              pyhd8ed1ab_0    conda-forge\n",
      "nbformat                  5.7.3              pyhd8ed1ab_0    conda-forge\n",
      "ncurses                   6.3                  h96cf925_1    conda-forge\n",
      "nest-asyncio              1.5.6              pyhd8ed1ab_0    conda-forge\n",
      "nodeenv                   1.7.0              pyhd8ed1ab_0    conda-forge\n",
      "notebook                  6.5.2              pyha770c72_1    conda-forge\n",
      "notebook-shim             0.2.2              pyhd8ed1ab_0    conda-forge\n",
      "nspr                      4.35                 hea0b92c_0    conda-forge\n",
      "nss                       3.78                 ha8197d3_0    conda-forge\n",
      "numpy                     1.24.2           py39h6ee2318_0    conda-forge\n",
      "openssl                   3.0.8                hfd90126_0    conda-forge\n",
      "packaging                 23.0               pyhd8ed1ab_0    conda-forge\n",
      "pandas                    1.5.3            py39hecff1ad_0    conda-forge\n",
      "pandoc                    2.19.2               h694c41f_1    conda-forge\n",
      "pandocfilters             1.5.0              pyhd8ed1ab_0    conda-forge\n",
      "parso                     0.8.3              pyhd8ed1ab_0    conda-forge\n",
      "pcre2                     10.40                h1c4e4bc_0    conda-forge\n",
      "pexpect                   4.8.0              pyh1a96a4e_2    conda-forge\n",
      "pickleshare               0.7.5                   py_1003    conda-forge\n",
      "pip                       23.0               pyhd8ed1ab_0    conda-forge\n",
      "pkgutil-resolve-name      1.3.10             pyhd8ed1ab_0    conda-forge\n",
      "platformdirs              3.0.0              pyhd8ed1ab_0    conda-forge\n",
      "pluggy                    1.0.0              pyhd8ed1ab_5    conda-forge\n",
      "ply                       3.11                       py_1    conda-forge\n",
      "pre-commit                3.0.4            py39h6e9494a_0    conda-forge\n",
      "prometheus_client         0.16.0             pyhd8ed1ab_0    conda-forge\n",
      "prompt-toolkit            3.0.36             pyha770c72_0    conda-forge\n",
      "prompt_toolkit            3.0.36               hd8ed1ab_0    conda-forge\n",
      "psutil                    5.9.4            py39ha30fb19_0    conda-forge\n",
      "ptyprocess                0.7.0              pyhd3deb0d_0    conda-forge\n",
      "pure_eval                 0.2.2              pyhd8ed1ab_0    conda-forge\n",
      "pycparser                 2.21               pyhd8ed1ab_0    conda-forge\n",
      "pydantic                  1.10.4           py39ha30fb19_1    conda-forge\n",
      "pygments                  2.14.0             pyhd8ed1ab_0    conda-forge\n",
      "pyopenssl                 23.0.0             pyhd8ed1ab_0    conda-forge\n",
      "pyqt                      5.15.7           py39h327fbb6_3    conda-forge\n",
      "pyqt5-sip                 12.11.0          py39hc100f75_3    conda-forge\n",
      "pyrsistent                0.19.3           py39ha30fb19_0    conda-forge\n",
      "pysocks                   1.7.1              pyha2e5f31_6    conda-forge\n",
      "pytest                    7.2.1              pyhd8ed1ab_0    conda-forge\n",
      "python                    3.9.16          h709bd14_0_cpython    conda-forge\n",
      "python-dateutil           2.8.2              pyhd8ed1ab_0    conda-forge\n",
      "python-fastjsonschema     2.16.2             pyhd8ed1ab_0    conda-forge\n",
      "python-json-logger        2.0.4              pyhd8ed1ab_0    conda-forge\n",
      "python_abi                3.9                      3_cp39    conda-forge\n",
      "pytz                      2022.7.1           pyhd8ed1ab_0    conda-forge\n",
      "pyyaml                    6.0              py39ha30fb19_5    conda-forge\n",
      "pyzmq                     25.0.0           py39hed8f129_0    conda-forge\n",
      "qt-main                   5.15.8               h1d3b3f8_6    conda-forge\n",
      "qtconsole                 5.4.0              pyhd8ed1ab_0    conda-forge\n",
      "qtconsole-base            5.4.0              pyha770c72_0    conda-forge\n",
      "qtpy                      2.3.0              pyhd8ed1ab_0    conda-forge\n",
      "readline                  8.1.2                h3899abd_0    conda-forge\n",
      "requests                  2.28.2             pyhd8ed1ab_0    conda-forge\n",
      "requests-file             1.5.1              pyh9f0ad1d_0    conda-forge\n",
      "requests-toolbelt         0.10.1             pyhd8ed1ab_0    conda-forge\n",
      "rfc3339-validator         0.1.4              pyhd8ed1ab_0    conda-forge\n",
      "rfc3986-validator         0.1.1              pyh9f0ad1d_0    conda-forge\n",
      "send2trash                1.8.0              pyhd8ed1ab_0    conda-forge\n",
      "setuptools                67.1.0             pyhd8ed1ab_0    conda-forge\n",
      "sip                       6.7.7            py39h7a8716b_0    conda-forge\n",
      "six                       1.16.0             pyh6c4a22f_0    conda-forge\n",
      "sniffio                   1.3.0              pyhd8ed1ab_0    conda-forge\n",
      "snowintel                 0.0.post2+dirty          pypi_0    pypi\n",
      "soupsieve                 2.3.2.post1        pyhd8ed1ab_0    conda-forge\n",
      "sqlite                    3.40.0               h9ae0607_0    conda-forge\n",
      "stack_data                0.6.2              pyhd8ed1ab_0    conda-forge\n",
      "starlette                 0.23.0             pyhd8ed1ab_0    conda-forge\n",
      "suds-jurko                0.6             py39h6e9494a_1005    conda-forge\n",
      "terminado                 0.17.1             pyhd1c38e8_0    conda-forge\n",
      "tinycss2                  1.2.1              pyhd8ed1ab_0    conda-forge\n",
      "tk                        8.6.12               h5dbffcc_0    conda-forge\n",
      "toml                      0.10.2             pyhd8ed1ab_0    conda-forge\n",
      "tomli                     2.0.1              pyhd8ed1ab_0    conda-forge\n",
      "tornado                   6.2              py39ha30fb19_1    conda-forge\n",
      "traitlets                 5.9.0              pyhd8ed1ab_0    conda-forge\n",
      "typing-extensions         4.4.0                hd8ed1ab_0    conda-forge\n",
      "typing_extensions         4.4.0              pyha770c72_0    conda-forge\n",
      "tzdata                    2022g                h191b570_0    conda-forge\n",
      "ukkonen                   1.0.1            py39h92daf61_3    conda-forge\n",
      "ulmo                      0.8.8              pyh6c4a22f_0    conda-forge\n",
      "urllib3                   1.26.14            pyhd8ed1ab_0    conda-forge\n",
      "virtualenv                20.19.0            pyhd8ed1ab_0    conda-forge\n",
      "wcwidth                   0.2.6              pyhd8ed1ab_0    conda-forge\n",
      "webencodings              0.5.1                      py_1    conda-forge\n",
      "websocket-client          1.5.1              pyhd8ed1ab_0    conda-forge\n",
      "wheel                     0.38.4             pyhd8ed1ab_0    conda-forge\n",
      "widgetsnbextension        4.0.5              pyhd8ed1ab_0    conda-forge\n",
      "xarray                    2023.2.0           pyhd8ed1ab_0    conda-forge\n",
      "xz                        5.2.6                h775f41a_0    conda-forge\n",
      "yaml                      0.2.5                h0d85af4_2    conda-forge\n",
      "zeep                      4.2.1              pyh1a96a4e_0    conda-forge\n",
      "zeromq                    4.3.4                he49afe7_1    conda-forge\n",
      "zipp                      3.12.1             pyhd8ed1ab_0    conda-forge\n",
      "zstd                      1.5.2                hbc0c0cd_6    conda-forge\n"
     ]
    }
   ],
   "source": [
    "!mamba list"
   ]
  },
  {
   "cell_type": "code",
   "execution_count": null,
   "metadata": {},
   "outputs": [],
   "source": []
  },
  {
   "cell_type": "code",
   "execution_count": null,
   "metadata": {},
   "outputs": [],
   "source": []
  },
  {
   "cell_type": "code",
   "execution_count": 1,
   "metadata": {},
   "outputs": [
    {
     "ename": "ModuleNotFoundError",
     "evalue": "No module named 'snowintel'",
     "output_type": "error",
     "traceback": [
      "\u001b[0;31m---------------------------------------------------------------------------\u001b[0m",
      "\u001b[0;31mModuleNotFoundError\u001b[0m                       Traceback (most recent call last)",
      "Cell \u001b[0;32mIn[1], line 1\u001b[0m\n\u001b[0;32m----> 1\u001b[0m \u001b[39mfrom\u001b[39;00m \u001b[39msnowintel\u001b[39;00m\u001b[39m.\u001b[39;00m\u001b[39mcore\u001b[39;00m \u001b[39mimport\u001b[39;00m GetSites\n",
      "\u001b[0;31mModuleNotFoundError\u001b[0m: No module named 'snowintel'"
     ]
    }
   ],
   "source": []
  },
  {
   "cell_type": "code",
   "execution_count": null,
   "metadata": {},
   "outputs": [],
   "source": []
  },
  {
   "cell_type": "code",
   "execution_count": null,
   "metadata": {},
   "outputs": [],
   "source": [
    "HIS_CENTRAL_WSDL_URL = \"http://hiscentral.cuahsi.org/webservices/hiscentral.asmx?WSDL\"\n",
    "SNOTEL_WSDL_URL = \"https://hydroportal.cuahsi.org/Snotel/cuahsi_1_1.asmx?WSDL\""
   ]
  },
  {
   "cell_type": "code",
   "execution_count": null,
   "metadata": {},
   "outputs": [],
   "source": [
    "client = Client(SNOTEL_WSDL_URL)"
   ]
  },
  {
   "cell_type": "code",
   "execution_count": null,
   "metadata": {},
   "outputs": [],
   "source": [
    "get_sites = client.service.GetSites(\"\")\n",
    "response_buffer = io.BytesIO(util.to_bytes(get_sites))\n",
    "sites = waterml.v1_1.parse_site_infos(response_buffer)"
   ]
  },
  {
   "cell_type": "code",
   "execution_count": null,
   "metadata": {},
   "outputs": [],
   "source": [
    "response_buffer = io.BytesIO(util.to_bytes(get_sites))"
   ]
  },
  {
   "cell_type": "code",
   "execution_count": null,
   "metadata": {},
   "outputs": [],
   "source": [
    "response_buffer"
   ]
  },
  {
   "cell_type": "code",
   "execution_count": null,
   "metadata": {},
   "outputs": [],
   "source": [
    "sites = waterml.v1_1.parse_site_infos(response_buffer)"
   ]
  },
  {
   "cell_type": "code",
   "execution_count": null,
   "metadata": {},
   "outputs": [],
   "source": [
    "sites"
   ]
  },
  {
   "cell_type": "code",
   "execution_count": null,
   "metadata": {},
   "outputs": [],
   "source": [
    "# result = client.service.GetWaterOneFlowServiceInfo()\n",
    "# result_list = zeep.helpers.serialize_object(result)"
   ]
  },
  {
   "cell_type": "code",
   "execution_count": null,
   "metadata": {},
   "outputs": [],
   "source": []
  },
  {
   "cell_type": "code",
   "execution_count": null,
   "metadata": {},
   "outputs": [],
   "source": []
  },
  {
   "cell_type": "code",
   "execution_count": null,
   "metadata": {},
   "outputs": [],
   "source": [
    "df = pd.DataFrame(result_list)"
   ]
  },
  {
   "cell_type": "markdown",
   "metadata": {},
   "source": []
  },
  {
   "cell_type": "code",
   "execution_count": null,
   "metadata": {},
   "outputs": [],
   "source": [
    "df[df[\"Title\"] == \"NRCS SNOTEL Standard Variables\"].servURL.iloc[0]"
   ]
  },
  {
   "cell_type": "code",
   "execution_count": null,
   "metadata": {},
   "outputs": [],
   "source": [
    "pd.DataFrame.from_dict(\n",
    "    zeep.helpers.serialize_object(result)[0], orient=\"index\"\n",
    ").T.ServiceDescriptionURL.iloc[0]"
   ]
  },
  {
   "cell_type": "code",
   "execution_count": null,
   "metadata": {},
   "outputs": [],
   "source": []
  }
 ],
 "metadata": {
  "kernelspec": {
   "display_name": "snowintel",
   "language": "python",
   "name": "python3"
  },
  "language_info": {
   "codemirror_mode": {
    "name": "ipython",
    "version": 3
   },
   "file_extension": ".py",
   "mimetype": "text/x-python",
   "name": "python",
   "nbconvert_exporter": "python",
   "pygments_lexer": "ipython3",
   "version": "3.9.16"
  },
  "orig_nbformat": 4,
  "vscode": {
   "interpreter": {
    "hash": "b6a174f0bce858bb49386db9f4b3ddef3c2e349c24208729b432195dc8806e2c"
   }
  }
 },
 "nbformat": 4,
 "nbformat_minor": 2
}
